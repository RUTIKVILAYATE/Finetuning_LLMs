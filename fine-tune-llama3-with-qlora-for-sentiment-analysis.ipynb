{
 "cells": [
  {
   "cell_type": "markdown",
   "id": "bf98b782",
   "metadata": {
    "papermill": {
     "duration": 0.011584,
     "end_time": "2024-11-17T08:39:52.194061",
     "exception": false,
     "start_time": "2024-11-17T08:39:52.182477",
     "status": "completed"
    },
    "tags": []
   },
   "source": [
    "<h1>Fine-tune Llama 3 with QLoRA for Sentiment Analysis</h1>\n",
    "\n",
    "\n",
    "# Introduction\n",
    "\n",
    "In this notebook, we will experiment with fine-tuning a Llama 3 model, using quanitzation and low-rank-adaptation combined, i.e. QLoRA.\n",
    "Here are the steps:\n",
    "\n",
    "* Load a dataset with sentiments  \n",
    "* Process it to create balanced train, evaluation and test sets and prepare prompts for LLM\n",
    "* Prepare quantization config and load tokenizer and model using Transformers\n",
    "* Define evaluation function\n",
    "* Test Llama3 without fine-tuning with prediction of sentiments\n",
    "* Define fine-tune configuration, parameters and trainer\n",
    "* Start fine-tuning using SFTTrainer\n",
    "* Evaluate (using the test set) the fine-tuned model\n",
    "\n",
    "## Sources for this Notebook\n",
    "\n",
    "This Notebook is based entirely on two other notebooks:\n",
    "* [Fine-tune Llama 3 for sentiment analysis](https://www.kaggle.com/code/lucamassaron/fine-tune-llama-3-for-sentiment-analysis) by Luca Massaron\n",
    "* [Fine-tune Open LLaMA - 81% on Financial Sentiments](https://www.kaggle.com/code/pardeep19singh/fine-tune-open-llama-81-on-financial-sentiments/) by Pardeep Singh\n",
    "\n",
    "## Data used\n",
    "\n",
    "The dataset used is [Financial Sentiment Analysis](https://www.kaggle.com/datasets/sbhatti/financial-sentiment-analysis). It combines two sources of data (FiQA, Financial PhraseBank), providing financial sentences, with sentiments added. It can be used to adapt models for sentiment analysis with specialization in financial domain. \n",
    "\n",
    "\n",
    "## What is Llama3?\n",
    "Llama3 is the latest release of open-source LLMs from Meta, with features pretrained and instruction-fine-tuned language models with 8B and 70B parameters.\n",
    "\n",
    "## What is LoRA?\n",
    "LoRA stands for Low-Rank Adaptation. It is a method used to fine-tune large language models (LLMs) by freezing the weights of the LLM and injecting trainable rank-decomposition matrices. The number of trainable parameters during fine-tunning will decrease therefore considerably. According to LoRA paper, this number decreases 10,000 times, and the computational resources size decreases 3 times.\n",
    "\n",
    "## What is QLoRA?\n",
    "QLoRA builds on LoRA by incorporating quantization techniques to further reduce memory usage while maintaining, or even enhancing, model performance. With QLoRA it is possible to finetune a 70B parameter model that requires 36 GPUs with only 2!\n",
    "\n",
    "## What is PEFT?\n",
    "Parameter-efficient Fine-tuning (PEFT) is a technique used in Natural Language Processing (NLP) to improve the performance of pre-trained language models on specific downstream tasks. It involves reusing the pre-trained model’s parameters and fine-tuning them on a smaller dataset, which saves computational resources and time compared to training the entire model from scratch. PEFT achieves this efficiency by freezing some of the layers of the pre-trained model and only fine-tuning the last few layers that are specific to the downstream task.\n",
    "\n",
    "## What is SFTTrainer?\n",
    "SFT in SFTTrainer stands for supervised fine-tuning. The trl (Transformer Reinforcement Learning) library from HuggingFace provides a simple API to fine-tune models using SFTTrainer.\n",
    "\n"
   ]
  },
  {
   "cell_type": "markdown",
   "id": "4963cf76",
   "metadata": {
    "papermill": {
     "duration": 0.010867,
     "end_time": "2024-11-17T08:39:52.216643",
     "exception": false,
     "start_time": "2024-11-17T08:39:52.205776",
     "status": "completed"
    },
    "tags": []
   },
   "source": [
    "# Prerequisites"
   ]
  },
  {
   "cell_type": "markdown",
   "id": "b305eb0b",
   "metadata": {
    "papermill": {
     "duration": 0.010983,
     "end_time": "2024-11-17T08:39:52.238459",
     "exception": false,
     "start_time": "2024-11-17T08:39:52.227476",
     "status": "completed"
    },
    "tags": []
   },
   "source": [
    "We will install the resources needed for importing the libraries (with the correct versions)."
   ]
  },
  {
   "cell_type": "code",
   "execution_count": 1,
   "id": "88162857",
   "metadata": {
    "execution": {
     "iopub.execute_input": "2024-11-17T08:39:52.262679Z",
     "iopub.status.busy": "2024-11-17T08:39:52.262274Z",
     "iopub.status.idle": "2024-11-17T08:41:43.077519Z",
     "shell.execute_reply": "2024-11-17T08:41:43.076454Z"
    },
    "papermill": {
     "duration": 110.830411,
     "end_time": "2024-11-17T08:41:43.080101",
     "exception": false,
     "start_time": "2024-11-17T08:39:52.249690",
     "status": "completed"
    },
    "tags": []
   },
   "outputs": [],
   "source": [
    "!pip install -q -U torch --index-url https://download.pytorch.org/whl/cu117\n",
    "!pip install -q -U -i https://pypi.org/simple/ bitsandbytes\n",
    "!pip install -q -U transformers==\"4.40.0\"\n",
    "!pip install -q -U accelerate\n",
    "!pip install -q -U datasets\n",
    "!pip install -q -U trl\n",
    "!pip install -q -U peft"
   ]
  },
  {
   "cell_type": "code",
   "execution_count": 2,
   "id": "0da20d40",
   "metadata": {
    "execution": {
     "iopub.execute_input": "2024-11-17T08:41:43.103550Z",
     "iopub.status.busy": "2024-11-17T08:41:43.103219Z",
     "iopub.status.idle": "2024-11-17T08:41:43.107949Z",
     "shell.execute_reply": "2024-11-17T08:41:43.107107Z"
    },
    "papermill": {
     "duration": 0.018504,
     "end_time": "2024-11-17T08:41:43.109798",
     "exception": false,
     "start_time": "2024-11-17T08:41:43.091294",
     "status": "completed"
    },
    "tags": []
   },
   "outputs": [],
   "source": [
    "import os\n",
    "os.environ[\"CUDA_VISIBLE_DEVICES\"] = \"0\"\n",
    "os.environ[\"TOKENIZERS_PARALLELISM\"] = \"false\""
   ]
  },
  {
   "cell_type": "code",
   "execution_count": 3,
   "id": "1c08149f",
   "metadata": {
    "execution": {
     "iopub.execute_input": "2024-11-17T08:41:43.133176Z",
     "iopub.status.busy": "2024-11-17T08:41:43.132869Z",
     "iopub.status.idle": "2024-11-17T08:41:43.137219Z",
     "shell.execute_reply": "2024-11-17T08:41:43.136288Z"
    },
    "papermill": {
     "duration": 0.018487,
     "end_time": "2024-11-17T08:41:43.139256",
     "exception": false,
     "start_time": "2024-11-17T08:41:43.120769",
     "status": "completed"
    },
    "tags": []
   },
   "outputs": [],
   "source": [
    "import warnings\n",
    "warnings.filterwarnings(\"ignore\")"
   ]
  },
  {
   "cell_type": "markdown",
   "id": "1a15c941",
   "metadata": {
    "papermill": {
     "duration": 0.010914,
     "end_time": "2024-11-17T08:41:43.161141",
     "exception": false,
     "start_time": "2024-11-17T08:41:43.150227",
     "status": "completed"
    },
    "tags": []
   },
   "source": [
    "# Import packages"
   ]
  },
  {
   "cell_type": "code",
   "execution_count": 4,
   "id": "fd301dd6",
   "metadata": {
    "execution": {
     "iopub.execute_input": "2024-11-17T08:41:43.184396Z",
     "iopub.status.busy": "2024-11-17T08:41:43.184124Z",
     "iopub.status.idle": "2024-11-17T08:42:05.325325Z",
     "shell.execute_reply": "2024-11-17T08:42:05.324534Z"
    },
    "papermill": {
     "duration": 22.155641,
     "end_time": "2024-11-17T08:42:05.327571",
     "exception": false,
     "start_time": "2024-11-17T08:41:43.171930",
     "status": "completed"
    },
    "tags": []
   },
   "outputs": [],
   "source": [
    "import numpy as np\n",
    "import pandas as pd\n",
    "import os\n",
    "from tqdm import tqdm\n",
    "import bitsandbytes as bnb\n",
    "import torch\n",
    "import torch.nn as nn\n",
    "import transformers\n",
    "from datasets import Dataset\n",
    "from peft import LoraConfig, PeftConfig\n",
    "from trl import SFTTrainer\n",
    "from trl import setup_chat_format\n",
    "from transformers import (AutoModelForCausalLM, \n",
    "                          AutoTokenizer, \n",
    "                          BitsAndBytesConfig, \n",
    "                          TrainingArguments, \n",
    "                          pipeline, \n",
    "                          logging)\n",
    "from sklearn.metrics import (accuracy_score, \n",
    "                             classification_report, \n",
    "                             confusion_matrix)\n",
    "from sklearn.model_selection import train_test_split\n",
    "import matplotlib.pyplot as plt\n",
    "import seaborn as sns"
   ]
  },
  {
   "cell_type": "code",
   "execution_count": 5,
   "id": "3df58847",
   "metadata": {
    "execution": {
     "iopub.execute_input": "2024-11-17T08:42:05.350853Z",
     "iopub.status.busy": "2024-11-17T08:42:05.349875Z",
     "iopub.status.idle": "2024-11-17T08:42:05.355076Z",
     "shell.execute_reply": "2024-11-17T08:42:05.354232Z"
    },
    "papermill": {
     "duration": 0.018926,
     "end_time": "2024-11-17T08:42:05.357296",
     "exception": false,
     "start_time": "2024-11-17T08:42:05.338370",
     "status": "completed"
    },
    "tags": []
   },
   "outputs": [
    {
     "name": "stdout",
     "output_type": "stream",
     "text": [
      "pytorch version 2.4.0\n"
     ]
    }
   ],
   "source": [
    "print(f\"pytorch version {torch.__version__}\")"
   ]
  },
  {
   "cell_type": "code",
   "execution_count": 6,
   "id": "3abf37a1",
   "metadata": {
    "execution": {
     "iopub.execute_input": "2024-11-17T08:42:05.380033Z",
     "iopub.status.busy": "2024-11-17T08:42:05.379732Z",
     "iopub.status.idle": "2024-11-17T08:42:05.384338Z",
     "shell.execute_reply": "2024-11-17T08:42:05.383546Z"
    },
    "papermill": {
     "duration": 0.018165,
     "end_time": "2024-11-17T08:42:05.386350",
     "exception": false,
     "start_time": "2024-11-17T08:42:05.368185",
     "status": "completed"
    },
    "tags": []
   },
   "outputs": [
    {
     "name": "stdout",
     "output_type": "stream",
     "text": [
      "working on cuda:0\n"
     ]
    }
   ],
   "source": [
    "device = torch.device(\"cuda:0\" if torch.cuda.is_available() else \"cpu\")\n",
    "print(f\"working on {device}\")"
   ]
  },
  {
   "cell_type": "markdown",
   "id": "7898c738",
   "metadata": {
    "papermill": {
     "duration": 0.010513,
     "end_time": "2024-11-17T08:42:05.407531",
     "exception": false,
     "start_time": "2024-11-17T08:42:05.397018",
     "status": "completed"
    },
    "tags": []
   },
   "source": [
    "Disabling two features in PyTorch related to memory efficiency and speed during operations on the Graphics Processing Unit (GPU) specifically for the scaled dot product attention (SDPA) function."
   ]
  },
  {
   "cell_type": "code",
   "execution_count": 7,
   "id": "2d68c848",
   "metadata": {
    "execution": {
     "iopub.execute_input": "2024-11-17T08:42:05.430166Z",
     "iopub.status.busy": "2024-11-17T08:42:05.429872Z",
     "iopub.status.idle": "2024-11-17T08:42:05.434109Z",
     "shell.execute_reply": "2024-11-17T08:42:05.433359Z"
    },
    "papermill": {
     "duration": 0.017788,
     "end_time": "2024-11-17T08:42:05.435897",
     "exception": false,
     "start_time": "2024-11-17T08:42:05.418109",
     "status": "completed"
    },
    "tags": []
   },
   "outputs": [],
   "source": [
    "torch.backends.cuda.enable_mem_efficient_sdp(False)\n",
    "torch.backends.cuda.enable_flash_sdp(False)"
   ]
  },
  {
   "cell_type": "markdown",
   "id": "4663302e",
   "metadata": {
    "papermill": {
     "duration": 0.010309,
     "end_time": "2024-11-17T08:42:05.456688",
     "exception": false,
     "start_time": "2024-11-17T08:42:05.446379",
     "status": "completed"
    },
    "tags": []
   },
   "source": [
    "# Load the data"
   ]
  },
  {
   "cell_type": "code",
   "execution_count": 8,
   "id": "4a26c866",
   "metadata": {
    "execution": {
     "iopub.execute_input": "2024-11-17T08:42:05.478673Z",
     "iopub.status.busy": "2024-11-17T08:42:05.478410Z",
     "iopub.status.idle": "2024-11-17T08:42:05.511336Z",
     "shell.execute_reply": "2024-11-17T08:42:05.510401Z"
    },
    "papermill": {
     "duration": 0.046364,
     "end_time": "2024-11-17T08:42:05.513494",
     "exception": false,
     "start_time": "2024-11-17T08:42:05.467130",
     "status": "completed"
    },
    "tags": []
   },
   "outputs": [],
   "source": [
    "filename = \"/kaggle/input/financial-sentiment-analysis/data.csv\"\n",
    "\n",
    "df = pd.read_csv(filename, \n",
    "                 encoding=\"utf-8\", encoding_errors=\"replace\")"
   ]
  },
  {
   "cell_type": "code",
   "execution_count": 9,
   "id": "6c6a90ad",
   "metadata": {
    "execution": {
     "iopub.execute_input": "2024-11-17T08:42:05.536099Z",
     "iopub.status.busy": "2024-11-17T08:42:05.535819Z",
     "iopub.status.idle": "2024-11-17T08:42:05.539766Z",
     "shell.execute_reply": "2024-11-17T08:42:05.538922Z"
    },
    "papermill": {
     "duration": 0.017425,
     "end_time": "2024-11-17T08:42:05.541657",
     "exception": false,
     "start_time": "2024-11-17T08:42:05.524232",
     "status": "completed"
    },
    "tags": []
   },
   "outputs": [],
   "source": [
    "df.columns = [\"text\", \"sentiment\"]"
   ]
  },
  {
   "cell_type": "code",
   "execution_count": 10,
   "id": "81e73379",
   "metadata": {
    "execution": {
     "iopub.execute_input": "2024-11-17T08:42:05.564148Z",
     "iopub.status.busy": "2024-11-17T08:42:05.563870Z",
     "iopub.status.idle": "2024-11-17T08:42:05.579834Z",
     "shell.execute_reply": "2024-11-17T08:42:05.578989Z"
    },
    "papermill": {
     "duration": 0.029734,
     "end_time": "2024-11-17T08:42:05.581891",
     "exception": false,
     "start_time": "2024-11-17T08:42:05.552157",
     "status": "completed"
    },
    "tags": []
   },
   "outputs": [
    {
     "data": {
      "text/html": [
       "<div>\n",
       "<style scoped>\n",
       "    .dataframe tbody tr th:only-of-type {\n",
       "        vertical-align: middle;\n",
       "    }\n",
       "\n",
       "    .dataframe tbody tr th {\n",
       "        vertical-align: top;\n",
       "    }\n",
       "\n",
       "    .dataframe thead th {\n",
       "        text-align: right;\n",
       "    }\n",
       "</style>\n",
       "<table border=\"1\" class=\"dataframe\">\n",
       "  <thead>\n",
       "    <tr style=\"text-align: right;\">\n",
       "      <th></th>\n",
       "      <th>text</th>\n",
       "      <th>sentiment</th>\n",
       "    </tr>\n",
       "  </thead>\n",
       "  <tbody>\n",
       "    <tr>\n",
       "      <th>0</th>\n",
       "      <td>The GeoSolutions technology will leverage Bene...</td>\n",
       "      <td>positive</td>\n",
       "    </tr>\n",
       "    <tr>\n",
       "      <th>1</th>\n",
       "      <td>$ESI on lows, down $1.50 to $2.50 BK a real po...</td>\n",
       "      <td>negative</td>\n",
       "    </tr>\n",
       "    <tr>\n",
       "      <th>2</th>\n",
       "      <td>For the last quarter of 2010 , Componenta 's n...</td>\n",
       "      <td>positive</td>\n",
       "    </tr>\n",
       "    <tr>\n",
       "      <th>3</th>\n",
       "      <td>According to the Finnish-Russian Chamber of Co...</td>\n",
       "      <td>neutral</td>\n",
       "    </tr>\n",
       "    <tr>\n",
       "      <th>4</th>\n",
       "      <td>The Swedish buyout firm has sold its remaining...</td>\n",
       "      <td>neutral</td>\n",
       "    </tr>\n",
       "  </tbody>\n",
       "</table>\n",
       "</div>"
      ],
      "text/plain": [
       "                                                text sentiment\n",
       "0  The GeoSolutions technology will leverage Bene...  positive\n",
       "1  $ESI on lows, down $1.50 to $2.50 BK a real po...  negative\n",
       "2  For the last quarter of 2010 , Componenta 's n...  positive\n",
       "3  According to the Finnish-Russian Chamber of Co...   neutral\n",
       "4  The Swedish buyout firm has sold its remaining...   neutral"
      ]
     },
     "execution_count": 10,
     "metadata": {},
     "output_type": "execute_result"
    }
   ],
   "source": [
    "df.head()"
   ]
  },
  {
   "cell_type": "markdown",
   "id": "bc71dd19",
   "metadata": {
    "papermill": {
     "duration": 0.010577,
     "end_time": "2024-11-17T08:42:05.603309",
     "exception": false,
     "start_time": "2024-11-17T08:42:05.592732",
     "status": "completed"
    },
    "tags": []
   },
   "source": [
    "Sample from each type of sentiment a "
   ]
  },
  {
   "cell_type": "code",
   "execution_count": 11,
   "id": "1471a5c6",
   "metadata": {
    "execution": {
     "iopub.execute_input": "2024-11-17T08:42:05.626690Z",
     "iopub.status.busy": "2024-11-17T08:42:05.626416Z",
     "iopub.status.idle": "2024-11-17T08:42:07.179912Z",
     "shell.execute_reply": "2024-11-17T08:42:07.179023Z"
    },
    "papermill": {
     "duration": 1.567941,
     "end_time": "2024-11-17T08:42:07.182289",
     "exception": false,
     "start_time": "2024-11-17T08:42:05.614348",
     "status": "completed"
    },
    "tags": []
   },
   "outputs": [],
   "source": [
    "X_train = list()\n",
    "X_test = list()\n",
    "for sentiment in [\"positive\", \"neutral\", \"negative\"]:\n",
    "    train, test  = train_test_split(df[df.sentiment==sentiment], \n",
    "                                    train_size=300,\n",
    "                                    test_size=300, \n",
    "                                    random_state=42)\n",
    "    X_train.append(train)\n",
    "    X_test.append(test)\n",
    "\n",
    "X_train = pd.concat(X_train).sample(frac=1, random_state=10)\n",
    "X_test = pd.concat(X_test)\n",
    "\n",
    "eval_idx = [idx for idx in df.index if idx not in list(X_train.index) + list(X_test.index)]\n",
    "X_eval = df[df.index.isin(eval_idx)]\n",
    "X_eval = (X_eval\n",
    "          .groupby('sentiment', group_keys=False)\n",
    "          .apply(lambda x: x.sample(n=50, random_state=10, replace=True)))\n",
    "X_train = X_train.reset_index(drop=True)"
   ]
  },
  {
   "cell_type": "markdown",
   "id": "f4652c34",
   "metadata": {
    "papermill": {
     "duration": 0.010577,
     "end_time": "2024-11-17T08:42:07.204336",
     "exception": false,
     "start_time": "2024-11-17T08:42:07.193759",
     "status": "completed"
    },
    "tags": []
   },
   "source": [
    "Let's check we got this right."
   ]
  },
  {
   "cell_type": "code",
   "execution_count": 12,
   "id": "cd23122e",
   "metadata": {
    "execution": {
     "iopub.execute_input": "2024-11-17T08:42:07.227337Z",
     "iopub.status.busy": "2024-11-17T08:42:07.227020Z",
     "iopub.status.idle": "2024-11-17T08:42:07.233154Z",
     "shell.execute_reply": "2024-11-17T08:42:07.232255Z"
    },
    "papermill": {
     "duration": 0.02007,
     "end_time": "2024-11-17T08:42:07.235110",
     "exception": false,
     "start_time": "2024-11-17T08:42:07.215040",
     "status": "completed"
    },
    "tags": []
   },
   "outputs": [
    {
     "data": {
      "text/plain": [
       "((900, 2), (150, 2), (900, 2))"
      ]
     },
     "execution_count": 12,
     "metadata": {},
     "output_type": "execute_result"
    }
   ],
   "source": [
    "X_train.shape, X_eval.shape, X_test.shape"
   ]
  },
  {
   "cell_type": "code",
   "execution_count": 13,
   "id": "05587e7d",
   "metadata": {
    "execution": {
     "iopub.execute_input": "2024-11-17T08:42:07.258455Z",
     "iopub.status.busy": "2024-11-17T08:42:07.258167Z",
     "iopub.status.idle": "2024-11-17T08:42:07.263297Z",
     "shell.execute_reply": "2024-11-17T08:42:07.262481Z"
    },
    "papermill": {
     "duration": 0.019136,
     "end_time": "2024-11-17T08:42:07.265204",
     "exception": false,
     "start_time": "2024-11-17T08:42:07.246068",
     "status": "completed"
    },
    "tags": []
   },
   "outputs": [],
   "source": [
    "def generate_prompt(data_point):\n",
    "    return f\"\"\"\n",
    "            Analyze the sentiment of the news headline enclosed in square brackets, \n",
    "            determine if it is positive, neutral, or negative, and return the answer as \n",
    "            the corresponding sentiment label \"positive\" or \"neutral\" or \"negative\".\n",
    "\n",
    "            [{data_point[\"text\"]}] = {data_point[\"sentiment\"]}\n",
    "            \"\"\".strip()\n",
    "\n",
    "def generate_test_prompt(data_point):\n",
    "    return f\"\"\"\n",
    "            Analyze the sentiment of the news headline enclosed in square brackets, \n",
    "            determine if it is positive, neutral, or negative, and return the answer as \n",
    "            the corresponding sentiment label \"positive\" or \"neutral\" or \"negative\".\n",
    "\n",
    "            [{data_point[\"text\"]}] = \"\"\".strip()\n"
   ]
  },
  {
   "cell_type": "code",
   "execution_count": 14,
   "id": "3a0724ea",
   "metadata": {
    "execution": {
     "iopub.execute_input": "2024-11-17T08:42:07.288638Z",
     "iopub.status.busy": "2024-11-17T08:42:07.288348Z",
     "iopub.status.idle": "2024-11-17T08:42:07.346232Z",
     "shell.execute_reply": "2024-11-17T08:42:07.345509Z"
    },
    "papermill": {
     "duration": 0.071764,
     "end_time": "2024-11-17T08:42:07.348153",
     "exception": false,
     "start_time": "2024-11-17T08:42:07.276389",
     "status": "completed"
    },
    "tags": []
   },
   "outputs": [],
   "source": [
    "X_train = pd.DataFrame(X_train.apply(generate_prompt, axis=1), \n",
    "                       columns=[\"text\"])\n",
    "X_eval = pd.DataFrame(X_eval.apply(generate_prompt, axis=1), \n",
    "                      columns=[\"text\"])\n",
    "\n",
    "y_true = X_test.sentiment\n",
    "X_test = pd.DataFrame(X_test.apply(generate_test_prompt, axis=1), columns=[\"text\"])\n",
    "\n",
    "train_data = Dataset.from_pandas(X_train)\n",
    "eval_data = Dataset.from_pandas(X_eval)"
   ]
  },
  {
   "cell_type": "markdown",
   "id": "4c905d02",
   "metadata": {
    "papermill": {
     "duration": 0.010721,
     "end_time": "2024-11-17T08:42:07.369892",
     "exception": false,
     "start_time": "2024-11-17T08:42:07.359171",
     "status": "completed"
    },
    "tags": []
   },
   "source": [
    "Next we create a function to evaluate the results from our fine-tuned sentiment model. The function performs the following steps:\n",
    "\n",
    "1. Maps the sentiment labels to a numerical representation, where 2 represents positive, 1 represents neutral, and 0 represents negative.\n",
    "2. Calculates the accuracy of the model on the test data.\n",
    "3. Generates an accuracy report for each sentiment label.\n",
    "4. Generates a classification report for the model.\n",
    "5. Generates a confusion matrix for the model."
   ]
  },
  {
   "cell_type": "code",
   "execution_count": 15,
   "id": "e94cd1b6",
   "metadata": {
    "execution": {
     "iopub.execute_input": "2024-11-17T08:42:07.393563Z",
     "iopub.status.busy": "2024-11-17T08:42:07.392744Z",
     "iopub.status.idle": "2024-11-17T08:42:07.403588Z",
     "shell.execute_reply": "2024-11-17T08:42:07.402753Z"
    },
    "papermill": {
     "duration": 0.024802,
     "end_time": "2024-11-17T08:42:07.405493",
     "exception": false,
     "start_time": "2024-11-17T08:42:07.380691",
     "status": "completed"
    },
    "tags": []
   },
   "outputs": [],
   "source": [
    "def evaluate(y_true, y_pred):\n",
    "    labels = ['positive', 'neutral', 'negative']\n",
    "    mapping = {'positive': 2, 'neutral': 1, 'none':1, 'negative': 0}\n",
    "    def map_func(x):\n",
    "        return mapping.get(x, 1)\n",
    "    \n",
    "    y_true = np.vectorize(map_func)(y_true)\n",
    "    y_pred = np.vectorize(map_func)(y_pred)\n",
    "\n",
    "    # Class labels\n",
    "    class_labels = ['negative', 'neutral', 'positive']\n",
    "\n",
    "    # Calculate accuracy\n",
    "    accuracy = accuracy_score(y_true=y_true, y_pred=y_pred)\n",
    "    print(f'Accuracy: {accuracy:.3f}')\n",
    "    \n",
    "    # Generate accuracy report\n",
    "    unique_labels = set(y_true)  # Get unique labels\n",
    "    \n",
    "    for label in unique_labels:\n",
    "        label_indices = [i for i in range(len(y_true)) \n",
    "                         if y_true[i] == label]\n",
    "        label_y_true = [y_true[i] for i in label_indices]\n",
    "        label_y_pred = [y_pred[i] for i in label_indices]\n",
    "        accuracy = accuracy_score(label_y_true, label_y_pred)\n",
    "        print(f'Accuracy for label {label}: {accuracy:.3f}')\n",
    "        \n",
    "    # Generate classification report\n",
    "    class_report = classification_report(y_true=y_true, y_pred=y_pred, target_names=class_labels)\n",
    "    print('\\nClassification Report:')\n",
    "    print(class_report)\n",
    "    \n",
    "    # Generate confusion matrix\n",
    "    conf_matrix = confusion_matrix(y_true=y_true, y_pred=y_pred, labels=[0, 1, 2])\n",
    "    print('\\nConfusion Matrix:')\n",
    "    print(conf_matrix)\n",
    "\n",
    "    # Create a heatmap\n",
    "    plt.figure(figsize=(6, 5))\n",
    "   \n",
    "    sns.heatmap(conf_matrix, annot=True, fmt=\"d\", cmap=\"Oranges\", xticklabels=class_labels, yticklabels=class_labels)\n",
    "    \n",
    "    # Add labels and title\n",
    "    plt.xlabel('Predicted Labels')\n",
    "    plt.ylabel('True Labels')\n",
    "    plt.title('Confusion Matrix')\n",
    "    plt.show()"
   ]
  },
  {
   "cell_type": "markdown",
   "id": "463d7e2c",
   "metadata": {
    "papermill": {
     "duration": 0.011219,
     "end_time": "2024-11-17T08:42:07.427766",
     "exception": false,
     "start_time": "2024-11-17T08:42:07.416547",
     "status": "completed"
    },
    "tags": []
   },
   "source": [
    "## Testing the Llama3 model without fine-tuning"
   ]
  },
  {
   "cell_type": "markdown",
   "id": "1e8c6c22",
   "metadata": {
    "papermill": {
     "duration": 0.010901,
     "end_time": "2024-11-17T08:42:07.449665",
     "exception": false,
     "start_time": "2024-11-17T08:42:07.438764",
     "status": "completed"
    },
    "tags": []
   },
   "source": [
    "Next we need to take care of the model, which is a 8b-chat-hf (8 billion parameters, no RLHF, in the HuggingFace compatible format), loading from Kaggle models and quantization.\n",
    "\n",
    "Model loading and quantization:\n",
    "\n",
    "* First the code loads the Llama-3 language model from the Kaggle Models.\n",
    "* Then the code gets the float16 data type from the torch library. This is the data type that will be used for the computations.\n",
    "* Next, it creates a BitsAndBytesConfig object with the following settings:\n",
    "    1. load_in_4bit: Load the model weights in 4-bit format.\n",
    "    2. bnb_4bit_quant_type: Use the \"nf4\" quantization type. 4-bit NormalFloat (NF4), is a new data type that is information theoretically optimal for normally distributed weights.\n",
    "    3. bnb_4bit_compute_dtype: Use the float16 data type for computations.\n",
    "    4. bnb_4bit_use_double_quant: Do not use double quantization (reduces the average memory footprint by quantizing also the quantization constants and saves an additional 0.4 bits per parameter.).\n",
    "* Then the code creates a AutoModelForCausalLM object from the pre-trained Llama-2 language model, using the BitsAndBytesConfig object for quantization.\n",
    "* After that, the code disables caching for the model.\n",
    "* Finally the code sets the pre-training token probability to 1.\n",
    "\n",
    "Tokenizer loading:\n",
    "\n",
    "* First, the code loads the tokenizer for the Llama-3 language model.\n",
    "* Then it sets the padding token to be the end-of-sequence (EOS) token.\n",
    "* Finally, the code sets the padding side to be \"right\", which means that the input sequences will be padded on the right side. This is crucial for correct padding direction (this is the way with Llama 2)."
   ]
  },
  {
   "cell_type": "code",
   "execution_count": 16,
   "id": "8bd3d510",
   "metadata": {
    "execution": {
     "iopub.execute_input": "2024-11-17T08:42:07.472908Z",
     "iopub.status.busy": "2024-11-17T08:42:07.472587Z",
     "iopub.status.idle": "2024-11-17T08:43:22.662266Z",
     "shell.execute_reply": "2024-11-17T08:43:22.661439Z"
    },
    "papermill": {
     "duration": 75.203927,
     "end_time": "2024-11-17T08:43:22.664501",
     "exception": false,
     "start_time": "2024-11-17T08:42:07.460574",
     "status": "completed"
    },
    "tags": []
   },
   "outputs": [
    {
     "data": {
      "application/vnd.jupyter.widget-view+json": {
       "model_id": "a821d2035c914cb6b1c3c65af06d5d57",
       "version_major": 2,
       "version_minor": 0
      },
      "text/plain": [
       "Loading checkpoint shards:   0%|          | 0/4 [00:00<?, ?it/s]"
      ]
     },
     "metadata": {},
     "output_type": "display_data"
    }
   ],
   "source": [
    "model_name = \"../input/llama-3/transformers/8b-chat-hf/1\"\n",
    "\n",
    "compute_dtype = getattr(torch, \"float16\")\n",
    "\n",
    "bnb_config = BitsAndBytesConfig(\n",
    "    load_in_4bit=True,\n",
    "    bnb_4bit_use_double_quant=False,\n",
    "    bnb_4bit_quant_type=\"nf4\",\n",
    "    bnb_4bit_compute_dtype=compute_dtype,\n",
    ")\n",
    "\n",
    "model = AutoModelForCausalLM.from_pretrained(\n",
    "    model_name,\n",
    "    device_map=device,\n",
    "    torch_dtype=compute_dtype,\n",
    "    quantization_config=bnb_config, \n",
    ")\n",
    "\n",
    "model.config.use_cache = False\n",
    "model.config.pretraining_tp = 1\n",
    "\n",
    "max_seq_length = 512\n",
    "tokenizer = AutoTokenizer.from_pretrained(model_name, max_seq_length=max_seq_length)\n",
    "tokenizer.pad_token_id = tokenizer.eos_token_id"
   ]
  },
  {
   "cell_type": "markdown",
   "id": "c8703b34",
   "metadata": {
    "papermill": {
     "duration": 0.01103,
     "end_time": "2024-11-17T08:43:22.687064",
     "exception": false,
     "start_time": "2024-11-17T08:43:22.676034",
     "status": "completed"
    },
    "tags": []
   },
   "source": [
    "In the next cell, we set a function for predicting the sentiment of a news headline using the Llama-3 language model. The function takes three arguments:\n",
    "\n",
    "test: A Pandas DataFrame containing the news headlines to be predicted.\n",
    "model: The pre-trained Llama-3 language model.\n",
    "tokenizer: The tokenizer for the Llama-3 language model.\n",
    "\n",
    "The function works as follows:\n",
    "\n",
    "1. For each news headline in the test DataFrame:\n",
    "    * Create a prompt for the language model, which asks it to analyze the sentiment of the news headline and return the corresponding sentiment label.\n",
    "    * Use the pipeline() function from the Hugging Face Transformers library to generate text from the language model, using the prompt.\n",
    "    * Extract the predicted sentiment label from the generated text.\n",
    "    * Append the predicted sentiment label to the y_pred list.\n",
    "2. Return the y_pred list.\n",
    "\n",
    "The pipeline() function from the Hugging Face Transformers library is used to generate text from the language model. The task argument specifies that the task is text generation. The model and tokenizer arguments specify the pre-trained Llama-2 language model and the tokenizer for the language model. The max_new_tokens argument specifies the maximum number of new tokens to generate. The temperature argument controls the randomness of the generated text. A lower temperature will produce more predictable text, while a higher temperature will produce more creative and unexpected text.\n",
    "\n",
    "The if statement checks if the generated text contains the word \"positive\". If it does, then the predicted sentiment label is \"positive\". Otherwise, the if statement checks if the generated text contains the word \"negative\". If it does, then the predicted sentiment label is \"negative\". Otherwise, the if statement checks if the generated text contains the word \"neutral\". If it does, then the predicted sentiment label is \"neutral."
   ]
  },
  {
   "cell_type": "code",
   "execution_count": 17,
   "id": "f38b78c0",
   "metadata": {
    "execution": {
     "iopub.execute_input": "2024-11-17T08:43:22.710530Z",
     "iopub.status.busy": "2024-11-17T08:43:22.710217Z",
     "iopub.status.idle": "2024-11-17T08:43:22.717041Z",
     "shell.execute_reply": "2024-11-17T08:43:22.716174Z"
    },
    "papermill": {
     "duration": 0.020746,
     "end_time": "2024-11-17T08:43:22.718905",
     "exception": false,
     "start_time": "2024-11-17T08:43:22.698159",
     "status": "completed"
    },
    "tags": []
   },
   "outputs": [],
   "source": [
    "def predict(test, model, tokenizer):\n",
    "    y_pred = []\n",
    "    for i in tqdm(range(len(X_test))):\n",
    "        prompt = X_test.iloc[i][\"text\"]\n",
    "        pipe = pipeline(task=\"text-generation\", \n",
    "                        model=model, \n",
    "                        tokenizer=tokenizer, \n",
    "                        max_new_tokens = 1, \n",
    "                        temperature = 0.0,\n",
    "                       )\n",
    "        result = pipe(prompt)\n",
    "        answer = result[0]['generated_text'].split(\"=\")[-1]\n",
    "        if \"positive\" in answer:\n",
    "            y_pred.append(\"positive\")\n",
    "        elif \"negative\" in answer:\n",
    "            y_pred.append(\"negative\")\n",
    "        elif \"neutral\" in answer:\n",
    "            y_pred.append(\"neutral\")\n",
    "        else:\n",
    "            y_pred.append(\"none\")\n",
    "    return y_pred"
   ]
  },
  {
   "cell_type": "markdown",
   "id": "8346205e",
   "metadata": {
    "papermill": {
     "duration": 0.010986,
     "end_time": "2024-11-17T08:43:22.740799",
     "exception": false,
     "start_time": "2024-11-17T08:43:22.729813",
     "status": "completed"
    },
    "tags": []
   },
   "source": [
    "At this point, we are ready to test the Llama 3 8b-chat-hf model and see how it performs on our problem without any fine-tuning. This allows us to get insights on the model itself and establish a baseline."
   ]
  },
  {
   "cell_type": "code",
   "execution_count": 18,
   "id": "2bbf92ce",
   "metadata": {
    "execution": {
     "iopub.execute_input": "2024-11-17T08:43:22.764428Z",
     "iopub.status.busy": "2024-11-17T08:43:22.763753Z",
     "iopub.status.idle": "2024-11-17T08:48:38.607818Z",
     "shell.execute_reply": "2024-11-17T08:48:38.606777Z"
    },
    "papermill": {
     "duration": 315.858268,
     "end_time": "2024-11-17T08:48:38.610114",
     "exception": false,
     "start_time": "2024-11-17T08:43:22.751846",
     "status": "completed"
    },
    "tags": []
   },
   "outputs": [
    {
     "name": "stderr",
     "output_type": "stream",
     "text": [
      "100%|██████████| 900/900 [05:15<00:00,  2.85it/s]\n"
     ]
    }
   ],
   "source": [
    "y_pred = predict(test, model, tokenizer)"
   ]
  },
  {
   "cell_type": "markdown",
   "id": "91e15733",
   "metadata": {
    "papermill": {
     "duration": 0.116355,
     "end_time": "2024-11-17T08:48:38.805350",
     "exception": false,
     "start_time": "2024-11-17T08:48:38.688995",
     "status": "completed"
    },
    "tags": []
   },
   "source": [
    "In the following cell, we evaluate the results. There is little to be said, it is performing really terribly because the 8b-chat-hf model tends to just predict a neutral sentiment and seldom it detects positive or negative sentiment."
   ]
  },
  {
   "cell_type": "code",
   "execution_count": 19,
   "id": "e8873c92",
   "metadata": {
    "execution": {
     "iopub.execute_input": "2024-11-17T08:48:38.965404Z",
     "iopub.status.busy": "2024-11-17T08:48:38.964675Z",
     "iopub.status.idle": "2024-11-17T08:48:39.298757Z",
     "shell.execute_reply": "2024-11-17T08:48:39.297880Z"
    },
    "papermill": {
     "duration": 0.41641,
     "end_time": "2024-11-17T08:48:39.300700",
     "exception": false,
     "start_time": "2024-11-17T08:48:38.884290",
     "status": "completed"
    },
    "tags": []
   },
   "outputs": [
    {
     "name": "stdout",
     "output_type": "stream",
     "text": [
      "Accuracy: 0.371\n",
      "Accuracy for label 0: 0.003\n",
      "Accuracy for label 1: 0.983\n",
      "Accuracy for label 2: 0.127\n",
      "\n",
      "Classification Report:\n",
      "              precision    recall  f1-score   support\n",
      "\n",
      "    negative       0.50      0.00      0.01       300\n",
      "     neutral       0.35      0.98      0.51       300\n",
      "    positive       0.83      0.13      0.22       300\n",
      "\n",
      "    accuracy                           0.37       900\n",
      "   macro avg       0.56      0.37      0.25       900\n",
      "weighted avg       0.56      0.37      0.25       900\n",
      "\n",
      "\n",
      "Confusion Matrix:\n",
      "[[  1 296   3]\n",
      " [  0 295   5]\n",
      " [  1 261  38]]\n"
     ]
    },
    {
     "data": {
      "image/png": "[encoded data removed]",
      "text/plain": [
       "<Figure size 600x500 with 2 Axes>"
      ]
     },
     "metadata": {},
     "output_type": "display_data"
    }
   ],
   "source": [
    "evaluate(y_true, y_pred)"
   ]
  },
  {
   "cell_type": "markdown",
   "id": "98b52efc",
   "metadata": {
    "papermill": {
     "duration": 0.07907,
     "end_time": "2024-11-17T08:48:39.460013",
     "exception": false,
     "start_time": "2024-11-17T08:48:39.380943",
     "status": "completed"
    },
    "tags": []
   },
   "source": [
    "# Fine-tuning Llam3 model"
   ]
  },
  {
   "cell_type": "markdown",
   "id": "970b6c32",
   "metadata": {
    "papermill": {
     "duration": 0.079224,
     "end_time": "2024-11-17T08:48:39.620060",
     "exception": false,
     "start_time": "2024-11-17T08:48:39.540836",
     "status": "completed"
    },
    "tags": []
   },
   "source": [
    "\n",
    "PEFTConfig:\n",
    "\n",
    "The peft_config object specifies the parameters for PEFT. The following are some of the most important parameters:\n",
    "\n",
    "* lora_alpha: The learning rate for the LoRA update matrices.\n",
    "* lora_dropout: The dropout probability for the LoRA update matrices.\n",
    "* r: The rank of the LoRA update matrices.\n",
    "* bias: The type of bias to use. The possible values are none, additive, and learned.\n",
    "* task_type: The type of task that the model is being trained for. The possible values are CAUSAL_LM and MASKED_LM.\n",
    "\n",
    "TrainingArguments:\n",
    "\n",
    "The training_arguments object specifies the parameters for training the model. The following are some of the most important parameters:\n",
    "\n",
    "* output_dir: The directory where the training logs and checkpoints will be saved.\n",
    "* num_train_epochs: The number of epochs to train the model for.\n",
    "* per_device_train_batch_size: The number of samples in each batch on each device.\n",
    "* gradient_accumulation_steps: The number of batches to accumulate gradients before updating the model parameters.\n",
    "* optim: The optimizer to use for training the model.\n",
    "* save_steps: The number of steps after which to save a checkpoint.\n",
    "* logging_steps: The number of steps after which to log the training metrics.\n",
    "* learning_rate: The learning rate for the optimizer.\n",
    "* weight_decay: The weight decay parameter for the optimizer.\n",
    "* fp16: Whether to use 16-bit floating-point precision.\n",
    "* bf16: Whether to use BFloat16 precision.\n",
    "* max_grad_norm: The maximum gradient norm.\n",
    "* max_steps: The maximum number of steps to train the model for.\n",
    "* warmup_ratio: The proportion of the training steps to use for warming up the learning rate.\n",
    "* group_by_length: Whether to group the training samples by length.\n",
    "* lr_scheduler_type: The type of learning rate scheduler to use.\n",
    "* report_to: The tools to report the training metrics to.\n",
    "* evaluation_strategy: The strategy for evaluating the model during training.\n",
    "\n",
    "SFTTrainer:\n",
    "\n",
    "The SFTTrainer is a custom trainer class from the TRL library. It is used to train large language models (also using the PEFT method).\n",
    "\n",
    "The SFTTrainer object is initialized with the following arguments:\n",
    "\n",
    "* model: The model to be trained.\n",
    "* train_dataset: The training dataset.\n",
    "* eval_dataset: The evaluation dataset.\n",
    "* peft_config: The PEFT configuration.\n",
    "* dataset_text_field: The name of the text field in the dataset.\n",
    "* tokenizer: The tokenizer to use.\n",
    "* args: The training arguments.\n",
    "* packing: Whether to pack the training samples.\n",
    "* max_seq_length: The maximum sequence length.\n",
    "\n",
    "Once the SFTTrainer object is initialized, it can be used to train the model by calling the train() method"
   ]
  },
  {
   "cell_type": "code",
   "execution_count": 20,
   "id": "f2a7a064",
   "metadata": {
    "execution": {
     "iopub.execute_input": "2024-11-17T08:48:39.779996Z",
     "iopub.status.busy": "2024-11-17T08:48:39.779268Z",
     "iopub.status.idle": "2024-11-17T08:48:39.786096Z",
     "shell.execute_reply": "2024-11-17T08:48:39.785226Z"
    },
    "papermill": {
     "duration": 0.088778,
     "end_time": "2024-11-17T08:48:39.787893",
     "exception": false,
     "start_time": "2024-11-17T08:48:39.699115",
     "status": "completed"
    },
    "tags": []
   },
   "outputs": [],
   "source": [
    "from sklearn.metrics import (accuracy_score, \n",
    "                             recall_score, \n",
    "                             precision_score, \n",
    "                             f1_score)\n",
    "\n",
    "from transformers import EarlyStoppingCallback, IntervalStrategy\n",
    "\n",
    "def compute_metrics(p):    \n",
    "    pred, labels = p\n",
    "    pred = np.argmax(pred, axis=1)\n",
    "    accuracy = accuracy_score(y_true=labels, y_pred=pred)\n",
    "    recall = recall_score(y_true=labels, y_pred=pred)\n",
    "    precision = precision_score(y_true=labels, y_pred=pred)\n",
    "    f1 = f1_score(y_true=labels, y_pred=pred)    \n",
    "    return {\"accuracy\": accuracy, \"precision\": precision, \"recall\": recall, \"f1\": f1}"
   ]
  },
  {
   "cell_type": "code",
   "execution_count": 21,
   "id": "81cfba57",
   "metadata": {
    "execution": {
     "iopub.execute_input": "2024-11-17T08:48:39.948470Z",
     "iopub.status.busy": "2024-11-17T08:48:39.947789Z",
     "iopub.status.idle": "2024-11-17T08:48:42.703560Z",
     "shell.execute_reply": "2024-11-17T08:48:42.702717Z"
    },
    "papermill": {
     "duration": 2.838824,
     "end_time": "2024-11-17T08:48:42.705854",
     "exception": false,
     "start_time": "2024-11-17T08:48:39.867030",
     "status": "completed"
    },
    "tags": []
   },
   "outputs": [
    {
     "data": {
      "application/vnd.jupyter.widget-view+json": {
       "model_id": "8b758416dc1c47d0ad3533cc956e6b79",
       "version_major": 2,
       "version_minor": 0
      },
      "text/plain": [
       "Map:   0%|          | 0/900 [00:00<?, ? examples/s]"
      ]
     },
     "metadata": {},
     "output_type": "display_data"
    }
   ],
   "source": [
    "output_dir=\"trained_weigths\"\n",
    "\n",
    "peft_config = LoraConfig(\n",
    "    lora_alpha=16,\n",
    "    lora_dropout=0,\n",
    "    r=64,\n",
    "    bias=\"none\",\n",
    "    task_type=\"CAUSAL_LM\",\n",
    "    target_modules=[\"q_proj\", \"k_proj\", \"v_proj\", \"o_proj\",\n",
    "                    \"gate_proj\", \"up_proj\", \"down_proj\",],\n",
    ")\n",
    "\n",
    "training_arguments = TrainingArguments(\n",
    "    output_dir=output_dir,                   \n",
    "    num_train_epochs=5,\n",
    "    per_device_train_batch_size=1,\n",
    "    gradient_accumulation_steps=8,\n",
    "    gradient_checkpointing=True,\n",
    "    optim=\"paged_adamw_32bit\",\n",
    "    save_steps=0,\n",
    "    logging_steps=25, \n",
    "    learning_rate=2e-4,\n",
    "    weight_decay=0.001,\n",
    "    fp16=True,\n",
    "    bf16=False,\n",
    "    max_grad_norm=0.3,\n",
    "    max_steps=-1,\n",
    "    warmup_ratio=0.03,\n",
    "    group_by_length=False,\n",
    "    lr_scheduler_type=\"cosine\",\n",
    "    report_to=\"tensorboard\",\n",
    ")\n",
    "\n",
    "trainer = SFTTrainer(\n",
    "    model=model,\n",
    "    args=training_arguments,\n",
    "    train_dataset=train_data,\n",
    "    #eval_dataset=eval_data,\n",
    "    peft_config=peft_config,\n",
    "    dataset_text_field=\"text\",\n",
    "    tokenizer=tokenizer,\n",
    "    max_seq_length=max_seq_length,\n",
    "    packing=False,\n",
    "    dataset_kwargs={\n",
    "        \"add_special_tokens\": False,\n",
    "        \"append_concat_token\": False,\n",
    "    },\n",
    ")"
   ]
  },
  {
   "cell_type": "markdown",
   "id": "4d5a551a",
   "metadata": {
    "papermill": {
     "duration": 0.079785,
     "end_time": "2024-11-17T08:48:42.865760",
     "exception": false,
     "start_time": "2024-11-17T08:48:42.785975",
     "status": "completed"
    },
    "tags": []
   },
   "source": [
    "The following code will train the model using the trainer.train() method and then save the trained model to the trained-model directory. Using The standard GPU P100 offered by Kaggle, the training should be quite fast."
   ]
  },
  {
   "cell_type": "code",
   "execution_count": 22,
   "id": "63a10adb",
   "metadata": {
    "execution": {
     "iopub.execute_input": "2024-11-17T08:48:43.029562Z",
     "iopub.status.busy": "2024-11-17T08:48:43.029170Z",
     "iopub.status.idle": "2024-11-17T10:26:01.815124Z",
     "shell.execute_reply": "2024-11-17T10:26:01.814250Z"
    },
    "papermill": {
     "duration": 5838.871559,
     "end_time": "2024-11-17T10:26:01.817074",
     "exception": false,
     "start_time": "2024-11-17T08:48:42.945515",
     "status": "completed"
    },
    "tags": []
   },
   "outputs": [
    {
     "data": {
      "text/html": [
       "\n",
       "    <div>\n",
       "      \n",
       "      <progress value='560' max='560' style='width:300px; height:20px; vertical-align: middle;'></progress>\n",
       "      [560/560 1:37:07, Epoch 4/5]\n",
       "    </div>\n",
       "    <table border=\"1\" class=\"dataframe\">\n",
       "  <thead>\n",
       " <tr style=\"text-align: left;\">\n",
       "      <th>Step</th>\n",
       "      <th>Training Loss</th>\n",
       "    </tr>\n",
       "  </thead>\n",
       "  <tbody>\n",
       "    <tr>\n",
       "      <td>25</td>\n",
       "      <td>1.865600</td>\n",
       "    </tr>\n",
       "    <tr>\n",
       "      <td>50</td>\n",
       "      <td>1.015700</td>\n",
       "    </tr>\n",
       "    <tr>\n",
       "      <td>75</td>\n",
       "      <td>0.999900</td>\n",
       "    </tr>\n",
       "    <tr>\n",
       "      <td>100</td>\n",
       "      <td>0.941300</td>\n",
       "    </tr>\n",
       "    <tr>\n",
       "      <td>125</td>\n",
       "      <td>0.856400</td>\n",
       "    </tr>\n",
       "    <tr>\n",
       "      <td>150</td>\n",
       "      <td>0.757300</td>\n",
       "    </tr>\n",
       "    <tr>\n",
       "      <td>175</td>\n",
       "      <td>0.737200</td>\n",
       "    </tr>\n",
       "    <tr>\n",
       "      <td>200</td>\n",
       "      <td>0.741000</td>\n",
       "    </tr>\n",
       "    <tr>\n",
       "      <td>225</td>\n",
       "      <td>0.721500</td>\n",
       "    </tr>\n",
       "    <tr>\n",
       "      <td>250</td>\n",
       "      <td>0.484500</td>\n",
       "    </tr>\n",
       "    <tr>\n",
       "      <td>275</td>\n",
       "      <td>0.476800</td>\n",
       "    </tr>\n",
       "    <tr>\n",
       "      <td>300</td>\n",
       "      <td>0.442000</td>\n",
       "    </tr>\n",
       "    <tr>\n",
       "      <td>325</td>\n",
       "      <td>0.475600</td>\n",
       "    </tr>\n",
       "    <tr>\n",
       "      <td>350</td>\n",
       "      <td>0.380800</td>\n",
       "    </tr>\n",
       "    <tr>\n",
       "      <td>375</td>\n",
       "      <td>0.277200</td>\n",
       "    </tr>\n",
       "    <tr>\n",
       "      <td>400</td>\n",
       "      <td>0.269000</td>\n",
       "    </tr>\n",
       "    <tr>\n",
       "      <td>425</td>\n",
       "      <td>0.272000</td>\n",
       "    </tr>\n",
       "    <tr>\n",
       "      <td>450</td>\n",
       "      <td>0.266500</td>\n",
       "    </tr>\n",
       "    <tr>\n",
       "      <td>475</td>\n",
       "      <td>0.182000</td>\n",
       "    </tr>\n",
       "    <tr>\n",
       "      <td>500</td>\n",
       "      <td>0.182900</td>\n",
       "    </tr>\n",
       "    <tr>\n",
       "      <td>525</td>\n",
       "      <td>0.182500</td>\n",
       "    </tr>\n",
       "    <tr>\n",
       "      <td>550</td>\n",
       "      <td>0.166600</td>\n",
       "    </tr>\n",
       "  </tbody>\n",
       "</table><p>"
      ],
      "text/plain": [
       "<IPython.core.display.HTML object>"
      ]
     },
     "metadata": {},
     "output_type": "display_data"
    },
    {
     "data": {
      "text/plain": [
       "TrainOutput(global_step=560, training_loss=0.5701423502394132, metrics={'train_runtime': 5838.3059, 'train_samples_per_second': 0.771, 'train_steps_per_second': 0.096, 'total_flos': 1.6573393446567936e+16, 'train_loss': 0.5701423502394132, 'epoch': 4.977777777777778})"
      ]
     },
     "execution_count": 22,
     "metadata": {},
     "output_type": "execute_result"
    }
   ],
   "source": [
    "# Train model\n",
    "trainer.train()"
   ]
  },
  {
   "cell_type": "markdown",
   "id": "38d272e0",
   "metadata": {
    "papermill": {
     "duration": 0.079263,
     "end_time": "2024-11-17T10:26:01.977117",
     "exception": false,
     "start_time": "2024-11-17T10:26:01.897854",
     "status": "completed"
    },
    "tags": []
   },
   "source": [
    "The model and the tokenizer are saved to disk for later usage."
   ]
  },
  {
   "cell_type": "code",
   "execution_count": 23,
   "id": "4bc3fb3c",
   "metadata": {
    "execution": {
     "iopub.execute_input": "2024-11-17T10:26:02.139519Z",
     "iopub.status.busy": "2024-11-17T10:26:02.139158Z",
     "iopub.status.idle": "2024-11-17T10:26:03.831849Z",
     "shell.execute_reply": "2024-11-17T10:26:03.830883Z"
    },
    "papermill": {
     "duration": 1.777233,
     "end_time": "2024-11-17T10:26:03.835190",
     "exception": false,
     "start_time": "2024-11-17T10:26:02.057957",
     "status": "completed"
    },
    "tags": []
   },
   "outputs": [
    {
     "data": {
      "text/plain": [
       "('trained_weigths/tokenizer_config.json',\n",
       " 'trained_weigths/special_tokens_map.json',\n",
       " 'trained_weigths/tokenizer.json')"
      ]
     },
     "execution_count": 23,
     "metadata": {},
     "output_type": "execute_result"
    }
   ],
   "source": [
    "# Save trained model and tokenizer\n",
    "trainer.save_model()\n",
    "tokenizer.save_pretrained(output_dir)"
   ]
  },
  {
   "cell_type": "markdown",
   "id": "6b0d32a1",
   "metadata": {
    "papermill": {
     "duration": 0.080308,
     "end_time": "2024-11-17T10:26:03.997536",
     "exception": false,
     "start_time": "2024-11-17T10:26:03.917228",
     "status": "completed"
    },
    "tags": []
   },
   "source": [
    "# Testing the fine-tuned model"
   ]
  },
  {
   "cell_type": "markdown",
   "id": "b34b99ae",
   "metadata": {
    "papermill": {
     "duration": 0.07998,
     "end_time": "2024-11-17T10:26:04.158098",
     "exception": false,
     "start_time": "2024-11-17T10:26:04.078118",
     "status": "completed"
    },
    "tags": []
   },
   "source": [
    "Let's see what is the classification report for the evaluation set."
   ]
  },
  {
   "cell_type": "code",
   "execution_count": 24,
   "id": "f96cf3e3",
   "metadata": {
    "execution": {
     "iopub.execute_input": "2024-11-17T10:26:04.321446Z",
     "iopub.status.busy": "2024-11-17T10:26:04.320819Z",
     "iopub.status.idle": "2024-11-17T10:32:01.297888Z",
     "shell.execute_reply": "2024-11-17T10:32:01.296913Z"
    },
    "papermill": {
     "duration": 357.060813,
     "end_time": "2024-11-17T10:32:01.300462",
     "exception": false,
     "start_time": "2024-11-17T10:26:04.239649",
     "status": "completed"
    },
    "tags": []
   },
   "outputs": [
    {
     "name": "stderr",
     "output_type": "stream",
     "text": [
      "  0%|          | 0/900 [00:00<?, ?it/s]`use_cache=True` is incompatible with gradient checkpointing. Setting `use_cache=False`.\n",
      "100%|██████████| 900/900 [05:56<00:00,  2.52it/s]\n"
     ]
    }
   ],
   "source": [
    "y_pred = predict(test, model, tokenizer)\n"
   ]
  },
  {
   "cell_type": "code",
   "execution_count": 25,
   "id": "79c0e319",
   "metadata": {
    "execution": {
     "iopub.execute_input": "2024-11-17T10:32:01.603561Z",
     "iopub.status.busy": "2024-11-17T10:32:01.602541Z",
     "iopub.status.idle": "2024-11-17T10:32:01.899001Z",
     "shell.execute_reply": "2024-11-17T10:32:01.898091Z"
    },
    "papermill": {
     "duration": 0.45178,
     "end_time": "2024-11-17T10:32:01.901044",
     "exception": false,
     "start_time": "2024-11-17T10:32:01.449264",
     "status": "completed"
    },
    "tags": []
   },
   "outputs": [
    {
     "name": "stdout",
     "output_type": "stream",
     "text": [
      "Accuracy: 0.861\n",
      "Accuracy for label 0: 0.877\n",
      "Accuracy for label 1: 0.813\n",
      "Accuracy for label 2: 0.893\n",
      "\n",
      "Classification Report:\n",
      "              precision    recall  f1-score   support\n",
      "\n",
      "    negative       0.86      0.88      0.87       300\n",
      "     neutral       0.81      0.81      0.81       300\n",
      "    positive       0.91      0.89      0.90       300\n",
      "\n",
      "    accuracy                           0.86       900\n",
      "   macro avg       0.86      0.86      0.86       900\n",
      "weighted avg       0.86      0.86      0.86       900\n",
      "\n",
      "\n",
      "Confusion Matrix:\n",
      "[[263  28   9]\n",
      " [ 39 244  17]\n",
      " [  3  29 268]]\n"
     ]
    },
    {
     "data": {
      "image/png": "[encoded data removed]",
      "text/plain": [
       "<Figure size 600x500 with 2 Axes>"
      ]
     },
     "metadata": {},
     "output_type": "display_data"
    }
   ],
   "source": [
    "evaluate(y_true, y_pred)"
   ]
  },
  {
   "cell_type": "markdown",
   "id": "57b7c39c",
   "metadata": {
    "papermill": {
     "duration": 0.148983,
     "end_time": "2024-11-17T10:32:02.201163",
     "exception": false,
     "start_time": "2024-11-17T10:32:02.052180",
     "status": "completed"
    },
    "tags": []
   },
   "source": [
    "The evaluation shows good results, compared with the result without fine-tuning."
   ]
  }
 ],
 "metadata": {
  "kaggle": {
   "accelerator": "gpu",
   "dataSources": [
    {
     "datasetId": 622510,
     "sourceId": 1192499,
     "sourceType": "datasetVersion"
    },
    {
     "datasetId": 1918992,
     "sourceId": 3205803,
     "sourceType": "datasetVersion"
    },
    {
     "modelId": 39106,
     "modelInstanceId": 28083,
     "sourceId": 33551,
     "sourceType": "modelInstanceVersion"
    }
   ],
   "dockerImageVersionId": 30787,
   "isGpuEnabled": true,
   "isInternetEnabled": true,
   "language": "python",
   "sourceType": "notebook"
  },
  "kernelspec": {
   "display_name": "Python 3",
   "language": "python",
   "name": "python3"
  },
  "language_info": {
   "codemirror_mode": {
    "name": "ipython",
    "version": 3
   },
   "file_extension": ".py",
   "mimetype": "text/x-python",
   "name": "python",
   "nbconvert_exporter": "python",
   "pygments_lexer": "ipython3",
   "version": "3.10.14"
  },
  "papermill": {
   "default_parameters": {},
   "duration": 6736.450275,
   "end_time": "2024-11-17T10:32:05.887541",
   "environment_variables": {},
   "exception": null,
   "input_path": "__notebook__.ipynb",
   "output_path": "__notebook__.ipynb",
   "parameters": {},
   "start_time": "2024-11-17T08:39:49.437266",
   "version": "2.6.0"
  },
  "widgets": {
   "application/vnd.jupyter.widget-state+json": {
    "state": {
     "0851be2ab8044e7cb38e5921554b3ef9": {
      "model_module": "@jupyter-widgets/controls",
      "model_module_version": "1.5.0",
      "model_name": "HTMLModel",
      "state": {
       "_dom_classes": [],
       "_model_module": "@jupyter-widgets/controls",
       "_model_module_version": "1.5.0",
       "_model_name": "HTMLModel",
       "_view_count": null,
       "_view_module": "@jupyter-widgets/controls",
       "_view_module_version": "1.5.0",
       "_view_name": "HTMLView",
       "description": "",
       "description_tooltip": null,
       "layout": "IPY_MODEL_5fd26aae6d884800904283c071a28691",
       "placeholder": "​",
       "style": "IPY_MODEL_74c9ff4d7cb94be1962341822f3413b4",
       "value": "Loading checkpoint shards: 100%"
      }
     },
     "210bb9c2dff6475c834277451c509004": {
      "model_module": "@jupyter-widgets/controls",
      "model_module_version": "1.5.0",
      "model_name": "DescriptionStyleModel",
      "state": {
       "_model_module": "@jupyter-widgets/controls",
       "_model_module_version": "1.5.0",
       "_model_name": "DescriptionStyleModel",
       "_view_count": null,
       "_view_module": "@jupyter-widgets/base",
       "_view_module_version": "1.2.0",
       "_view_name": "StyleView",
       "description_width": ""
      }
     },
     "22ef200b9eac493fb19f1586e01d6795": {
      "model_module": "@jupyter-widgets/controls",
      "model_module_version": "1.5.0",
      "model_name": "DescriptionStyleModel",
      "state": {
       "_model_module": "@jupyter-widgets/controls",
       "_model_module_version": "1.5.0",
       "_model_name": "DescriptionStyleModel",
       "_view_count": null,
       "_view_module": "@jupyter-widgets/base",
       "_view_module_version": "1.2.0",
       "_view_name": "StyleView",
       "description_width": ""
      }
     },
     "32e070caae54453db164408a48999486": {
      "model_module": "@jupyter-widgets/controls",
      "model_module_version": "1.5.0",
      "model_name": "HTMLModel",
      "state": {
       "_dom_classes": [],
       "_model_module": "@jupyter-widgets/controls",
       "_model_module_version": "1.5.0",
       "_model_name": "HTMLModel",
       "_view_count": null,
       "_view_module": "@jupyter-widgets/controls",
       "_view_module_version": "1.5.0",
       "_view_name": "HTMLView",
       "description": "",
       "description_tooltip": null,
       "layout": "IPY_MODEL_8f8073d4c44f4f70bc2e997a3d9e401b",
       "placeholder": "​",
       "style": "IPY_MODEL_22ef200b9eac493fb19f1586e01d6795",
       "value": " 900/900 [00:00&lt;00:00, 3758.33 examples/s]"
      }
     },
     "37d24e8e1b6b4a55b500ae75442bcd08": {
      "model_module": "@jupyter-widgets/controls",
      "model_module_version": "1.5.0",
      "model_name": "DescriptionStyleModel",
      "state": {
       "_model_module": "@jupyter-widgets/controls",
       "_model_module_version": "1.5.0",
       "_model_name": "DescriptionStyleModel",
       "_view_count": null,
       "_view_module": "@jupyter-widgets/base",
       "_view_module_version": "1.2.0",
       "_view_name": "StyleView",
       "description_width": ""
      }
     },
     "41a2887338134d079be9a9116a4a6ecb": {
      "model_module": "@jupyter-widgets/base",
      "model_module_version": "1.2.0",
      "model_name": "LayoutModel",
      "state": {
       "_model_module": "@jupyter-widgets/base",
       "_model_module_version": "1.2.0",
       "_model_name": "LayoutModel",
       "_view_count": null,
       "_view_module": "@jupyter-widgets/base",
       "_view_module_version": "1.2.0",
       "_view_name": "LayoutView",
       "align_content": null,
       "align_items": null,
       "align_self": null,
       "border": null,
       "bottom": null,
       "display": null,
       "flex": null,
       "flex_flow": null,
       "grid_area": null,
       "grid_auto_columns": null,
       "grid_auto_flow": null,
       "grid_auto_rows": null,
       "grid_column": null,
       "grid_gap": null,
       "grid_row": null,
       "grid_template_areas": null,
       "grid_template_columns": null,
       "grid_template_rows": null,
       "height": null,
       "justify_content": null,
       "justify_items": null,
       "left": null,
       "margin": null,
       "max_height": null,
       "max_width": null,
       "min_height": null,
       "min_width": null,
       "object_fit": null,
       "object_position": null,
       "order": null,
       "overflow": null,
       "overflow_x": null,
       "overflow_y": null,
       "padding": null,
       "right": null,
       "top": null,
       "visibility": null,
       "width": null
      }
     },
     "56cf377bdc3445ea8a0d367a6679b129": {
      "model_module": "@jupyter-widgets/base",
      "model_module_version": "1.2.0",
      "model_name": "LayoutModel",
      "state": {
       "_model_module": "@jupyter-widgets/base",
       "_model_module_version": "1.2.0",
       "_model_name": "LayoutModel",
       "_view_count": null,
       "_view_module": "@jupyter-widgets/base",
       "_view_module_version": "1.2.0",
       "_view_name": "LayoutView",
       "align_content": null,
       "align_items": null,
       "align_self": null,
       "border": null,
       "bottom": null,
       "display": null,
       "flex": null,
       "flex_flow": null,
       "grid_area": null,
       "grid_auto_columns": null,
       "grid_auto_flow": null,
       "grid_auto_rows": null,
       "grid_column": null,
       "grid_gap": null,
       "grid_row": null,
       "grid_template_areas": null,
       "grid_template_columns": null,
       "grid_template_rows": null,
       "height": null,
       "justify_content": null,
       "justify_items": null,
       "left": null,
       "margin": null,
       "max_height": null,
       "max_width": null,
       "min_height": null,
       "min_width": null,
       "object_fit": null,
       "object_position": null,
       "order": null,
       "overflow": null,
       "overflow_x": null,
       "overflow_y": null,
       "padding": null,
       "right": null,
       "top": null,
       "visibility": null,
       "width": null
      }
     },
     "5fd26aae6d884800904283c071a28691": {
      "model_module": "@jupyter-widgets/base",
      "model_module_version": "1.2.0",
      "model_name": "LayoutModel",
      "state": {
       "_model_module": "@jupyter-widgets/base",
       "_model_module_version": "1.2.0",
       "_model_name": "LayoutModel",
       "_view_count": null,
       "_view_module": "@jupyter-widgets/base",
       "_view_module_version": "1.2.0",
       "_view_name": "LayoutView",
       "align_content": null,
       "align_items": null,
       "align_self": null,
       "border": null,
       "bottom": null,
       "display": null,
       "flex": null,
       "flex_flow": null,
       "grid_area": null,
       "grid_auto_columns": null,
       "grid_auto_flow": null,
       "grid_auto_rows": null,
       "grid_column": null,
       "grid_gap": null,
       "grid_row": null,
       "grid_template_areas": null,
       "grid_template_columns": null,
       "grid_template_rows": null,
       "height": null,
       "justify_content": null,
       "justify_items": null,
       "left": null,
       "margin": null,
       "max_height": null,
       "max_width": null,
       "min_height": null,
       "min_width": null,
       "object_fit": null,
       "object_position": null,
       "order": null,
       "overflow": null,
       "overflow_x": null,
       "overflow_y": null,
       "padding": null,
       "right": null,
       "top": null,
       "visibility": null,
       "width": null
      }
     },
     "74c9ff4d7cb94be1962341822f3413b4": {
      "model_module": "@jupyter-widgets/controls",
      "model_module_version": "1.5.0",
      "model_name": "DescriptionStyleModel",
      "state": {
       "_model_module": "@jupyter-widgets/controls",
       "_model_module_version": "1.5.0",
       "_model_name": "DescriptionStyleModel",
       "_view_count": null,
       "_view_module": "@jupyter-widgets/base",
       "_view_module_version": "1.2.0",
       "_view_name": "StyleView",
       "description_width": ""
      }
     },
     "7deebbad7f3b43a5a8b20f326c9fab72": {
      "model_module": "@jupyter-widgets/controls",
      "model_module_version": "1.5.0",
      "model_name": "FloatProgressModel",
      "state": {
       "_dom_classes": [],
       "_model_module": "@jupyter-widgets/controls",
       "_model_module_version": "1.5.0",
       "_model_name": "FloatProgressModel",
       "_view_count": null,
       "_view_module": "@jupyter-widgets/controls",
       "_view_module_version": "1.5.0",
       "_view_name": "ProgressView",
       "bar_style": "success",
       "description": "",
       "description_tooltip": null,
       "layout": "IPY_MODEL_ae0c151d6be3493eb83bab0d01f35f0d",
       "max": 900.0,
       "min": 0.0,
       "orientation": "horizontal",
       "style": "IPY_MODEL_cf4441f9abbf4e77bd768b501d9edaa7",
       "value": 900.0
      }
     },
     "85c2b073dc5041029496c182f4f114c0": {
      "model_module": "@jupyter-widgets/controls",
      "model_module_version": "1.5.0",
      "model_name": "ProgressStyleModel",
      "state": {
       "_model_module": "@jupyter-widgets/controls",
       "_model_module_version": "1.5.0",
       "_model_name": "ProgressStyleModel",
       "_view_count": null,
       "_view_module": "@jupyter-widgets/base",
       "_view_module_version": "1.2.0",
       "_view_name": "StyleView",
       "bar_color": null,
       "description_width": ""
      }
     },
     "8b758416dc1c47d0ad3533cc956e6b79": {
      "model_module": "@jupyter-widgets/controls",
      "model_module_version": "1.5.0",
      "model_name": "HBoxModel",
      "state": {
       "_dom_classes": [],
       "_model_module": "@jupyter-widgets/controls",
       "_model_module_version": "1.5.0",
       "_model_name": "HBoxModel",
       "_view_count": null,
       "_view_module": "@jupyter-widgets/controls",
       "_view_module_version": "1.5.0",
       "_view_name": "HBoxView",
       "box_style": "",
       "children": [
        "IPY_MODEL_b4e7382470394b63b69639e4ea7be768",
        "IPY_MODEL_7deebbad7f3b43a5a8b20f326c9fab72",
        "IPY_MODEL_32e070caae54453db164408a48999486"
       ],
       "layout": "IPY_MODEL_41a2887338134d079be9a9116a4a6ecb"
      }
     },
     "8f8073d4c44f4f70bc2e997a3d9e401b": {
      "model_module": "@jupyter-widgets/base",
      "model_module_version": "1.2.0",
      "model_name": "LayoutModel",
      "state": {
       "_model_module": "@jupyter-widgets/base",
       "_model_module_version": "1.2.0",
       "_model_name": "LayoutModel",
       "_view_count": null,
       "_view_module": "@jupyter-widgets/base",
       "_view_module_version": "1.2.0",
       "_view_name": "LayoutView",
       "align_content": null,
       "align_items": null,
       "align_self": null,
       "border": null,
       "bottom": null,
       "display": null,
       "flex": null,
       "flex_flow": null,
       "grid_area": null,
       "grid_auto_columns": null,
       "grid_auto_flow": null,
       "grid_auto_rows": null,
       "grid_column": null,
       "grid_gap": null,
       "grid_row": null,
       "grid_template_areas": null,
       "grid_template_columns": null,
       "grid_template_rows": null,
       "height": null,
       "justify_content": null,
       "justify_items": null,
       "left": null,
       "margin": null,
       "max_height": null,
       "max_width": null,
       "min_height": null,
       "min_width": null,
       "object_fit": null,
       "object_position": null,
       "order": null,
       "overflow": null,
       "overflow_x": null,
       "overflow_y": null,
       "padding": null,
       "right": null,
       "top": null,
       "visibility": null,
       "width": null
      }
     },
     "a821d2035c914cb6b1c3c65af06d5d57": {
      "model_module": "@jupyter-widgets/controls",
      "model_module_version": "1.5.0",
      "model_name": "HBoxModel",
      "state": {
       "_dom_classes": [],
       "_model_module": "@jupyter-widgets/controls",
       "_model_module_version": "1.5.0",
       "_model_name": "HBoxModel",
       "_view_count": null,
       "_view_module": "@jupyter-widgets/controls",
       "_view_module_version": "1.5.0",
       "_view_name": "HBoxView",
       "box_style": "",
       "children": [
        "IPY_MODEL_0851be2ab8044e7cb38e5921554b3ef9",
        "IPY_MODEL_b8ee6d0d16284574b79b7690a717f6f2",
        "IPY_MODEL_e6acbd8799b9494099d5be6c2edbe28f"
       ],
       "layout": "IPY_MODEL_cf57c8f7e3b74e619c7afc112c5c4bde"
      }
     },
     "ae0c151d6be3493eb83bab0d01f35f0d": {
      "model_module": "@jupyter-widgets/base",
      "model_module_version": "1.2.0",
      "model_name": "LayoutModel",
      "state": {
       "_model_module": "@jupyter-widgets/base",
       "_model_module_version": "1.2.0",
       "_model_name": "LayoutModel",
       "_view_count": null,
       "_view_module": "@jupyter-widgets/base",
       "_view_module_version": "1.2.0",
       "_view_name": "LayoutView",
       "align_content": null,
       "align_items": null,
       "align_self": null,
       "border": null,
       "bottom": null,
       "display": null,
       "flex": null,
       "flex_flow": null,
       "grid_area": null,
       "grid_auto_columns": null,
       "grid_auto_flow": null,
       "grid_auto_rows": null,
       "grid_column": null,
       "grid_gap": null,
       "grid_row": null,
       "grid_template_areas": null,
       "grid_template_columns": null,
       "grid_template_rows": null,
       "height": null,
       "justify_content": null,
       "justify_items": null,
       "left": null,
       "margin": null,
       "max_height": null,
       "max_width": null,
       "min_height": null,
       "min_width": null,
       "object_fit": null,
       "object_position": null,
       "order": null,
       "overflow": null,
       "overflow_x": null,
       "overflow_y": null,
       "padding": null,
       "right": null,
       "top": null,
       "visibility": null,
       "width": null
      }
     },
     "b4e7382470394b63b69639e4ea7be768": {
      "model_module": "@jupyter-widgets/controls",
      "model_module_version": "1.5.0",
      "model_name": "HTMLModel",
      "state": {
       "_dom_classes": [],
       "_model_module": "@jupyter-widgets/controls",
       "_model_module_version": "1.5.0",
       "_model_name": "HTMLModel",
       "_view_count": null,
       "_view_module": "@jupyter-widgets/controls",
       "_view_module_version": "1.5.0",
       "_view_name": "HTMLView",
       "description": "",
       "description_tooltip": null,
       "layout": "IPY_MODEL_56cf377bdc3445ea8a0d367a6679b129",
       "placeholder": "​",
       "style": "IPY_MODEL_210bb9c2dff6475c834277451c509004",
       "value": "Map: 100%"
      }
     },
     "b8ee6d0d16284574b79b7690a717f6f2": {
      "model_module": "@jupyter-widgets/controls",
      "model_module_version": "1.5.0",
      "model_name": "FloatProgressModel",
      "state": {
       "_dom_classes": [],
       "_model_module": "@jupyter-widgets/controls",
       "_model_module_version": "1.5.0",
       "_model_name": "FloatProgressModel",
       "_view_count": null,
       "_view_module": "@jupyter-widgets/controls",
       "_view_module_version": "1.5.0",
       "_view_name": "ProgressView",
       "bar_style": "success",
       "description": "",
       "description_tooltip": null,
       "layout": "IPY_MODEL_dc272f348b7945028cdd00012cc5e8f1",
       "max": 4.0,
       "min": 0.0,
       "orientation": "horizontal",
       "style": "IPY_MODEL_85c2b073dc5041029496c182f4f114c0",
       "value": 4.0
      }
     },
     "cf4441f9abbf4e77bd768b501d9edaa7": {
      "model_module": "@jupyter-widgets/controls",
      "model_module_version": "1.5.0",
      "model_name": "ProgressStyleModel",
      "state": {
       "_model_module": "@jupyter-widgets/controls",
       "_model_module_version": "1.5.0",
       "_model_name": "ProgressStyleModel",
       "_view_count": null,
       "_view_module": "@jupyter-widgets/base",
       "_view_module_version": "1.2.0",
       "_view_name": "StyleView",
       "bar_color": null,
       "description_width": ""
      }
     },
     "cf57c8f7e3b74e619c7afc112c5c4bde": {
      "model_module": "@jupyter-widgets/base",
      "model_module_version": "1.2.0",
      "model_name": "LayoutModel",
      "state": {
       "_model_module": "@jupyter-widgets/base",
       "_model_module_version": "1.2.0",
       "_model_name": "LayoutModel",
       "_view_count": null,
       "_view_module": "@jupyter-widgets/base",
       "_view_module_version": "1.2.0",
       "_view_name": "LayoutView",
       "align_content": null,
       "align_items": null,
       "align_self": null,
       "border": null,
       "bottom": null,
       "display": null,
       "flex": null,
       "flex_flow": null,
       "grid_area": null,
       "grid_auto_columns": null,
       "grid_auto_flow": null,
       "grid_auto_rows": null,
       "grid_column": null,
       "grid_gap": null,
       "grid_row": null,
       "grid_template_areas": null,
       "grid_template_columns": null,
       "grid_template_rows": null,
       "height": null,
       "justify_content": null,
       "justify_items": null,
       "left": null,
       "margin": null,
       "max_height": null,
       "max_width": null,
       "min_height": null,
       "min_width": null,
       "object_fit": null,
       "object_position": null,
       "order": null,
       "overflow": null,
       "overflow_x": null,
       "overflow_y": null,
       "padding": null,
       "right": null,
       "top": null,
       "visibility": null,
       "width": null
      }
     },
     "d6ed2e74b2f343fd8e650c3823574535": {
      "model_module": "@jupyter-widgets/base",
      "model_module_version": "1.2.0",
      "model_name": "LayoutModel",
      "state": {
       "_model_module": "@jupyter-widgets/base",
       "_model_module_version": "1.2.0",
       "_model_name": "LayoutModel",
       "_view_count": null,
       "_view_module": "@jupyter-widgets/base",
       "_view_module_version": "1.2.0",
       "_view_name": "LayoutView",
       "align_content": null,
       "align_items": null,
       "align_self": null,
       "border": null,
       "bottom": null,
       "display": null,
       "flex": null,
       "flex_flow": null,
       "grid_area": null,
       "grid_auto_columns": null,
       "grid_auto_flow": null,
       "grid_auto_rows": null,
       "grid_column": null,
       "grid_gap": null,
       "grid_row": null,
       "grid_template_areas": null,
       "grid_template_columns": null,
       "grid_template_rows": null,
       "height": null,
       "justify_content": null,
       "justify_items": null,
       "left": null,
       "margin": null,
       "max_height": null,
       "max_width": null,
       "min_height": null,
       "min_width": null,
       "object_fit": null,
       "object_position": null,
       "order": null,
       "overflow": null,
       "overflow_x": null,
       "overflow_y": null,
       "padding": null,
       "right": null,
       "top": null,
       "visibility": null,
       "width": null
      }
     },
     "dc272f348b7945028cdd00012cc5e8f1": {
      "model_module": "@jupyter-widgets/base",
      "model_module_version": "1.2.0",
      "model_name": "LayoutModel",
      "state": {
       "_model_module": "@jupyter-widgets/base",
       "_model_module_version": "1.2.0",
       "_model_name": "LayoutModel",
       "_view_count": null,
       "_view_module": "@jupyter-widgets/base",
       "_view_module_version": "1.2.0",
       "_view_name": "LayoutView",
       "align_content": null,
       "align_items": null,
       "align_self": null,
       "border": null,
       "bottom": null,
       "display": null,
       "flex": null,
       "flex_flow": null,
       "grid_area": null,
       "grid_auto_columns": null,
       "grid_auto_flow": null,
       "grid_auto_rows": null,
       "grid_column": null,
       "grid_gap": null,
       "grid_row": null,
       "grid_template_areas": null,
       "grid_template_columns": null,
       "grid_template_rows": null,
       "height": null,
       "justify_content": null,
       "justify_items": null,
       "left": null,
       "margin": null,
       "max_height": null,
       "max_width": null,
       "min_height": null,
       "min_width": null,
       "object_fit": null,
       "object_position": null,
       "order": null,
       "overflow": null,
       "overflow_x": null,
       "overflow_y": null,
       "padding": null,
       "right": null,
       "top": null,
       "visibility": null,
       "width": null
      }
     },
     "e6acbd8799b9494099d5be6c2edbe28f": {
      "model_module": "@jupyter-widgets/controls",
      "model_module_version": "1.5.0",
      "model_name": "HTMLModel",
      "state": {
       "_dom_classes": [],
       "_model_module": "@jupyter-widgets/controls",
       "_model_module_version": "1.5.0",
       "_model_name": "HTMLModel",
       "_view_count": null,
       "_view_module": "@jupyter-widgets/controls",
       "_view_module_version": "1.5.0",
       "_view_name": "HTMLView",
       "description": "",
       "description_tooltip": null,
       "layout": "IPY_MODEL_d6ed2e74b2f343fd8e650c3823574535",
       "placeholder": "​",
       "style": "IPY_MODEL_37d24e8e1b6b4a55b500ae75442bcd08",
       "value": " 4/4 [01:14&lt;00:00, 15.90s/it]"
      }
     }
    },
    "version_major": 2,
    "version_minor": 0
   }
  }
 },
 "nbformat": 4,
 "nbformat_minor": 5
}
